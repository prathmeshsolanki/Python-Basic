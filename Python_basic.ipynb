{
  "nbformat": 4,
  "nbformat_minor": 0,
  "metadata": {
    "colab": {
      "provenance": []
    },
    "kernelspec": {
      "name": "python3",
      "display_name": "Python 3"
    },
    "language_info": {
      "name": "python"
    }
  },
  "cells": [
    {
      "cell_type": "markdown",
      "source": [
        "# **Python Basics Questions**"
      ],
      "metadata": {
        "id": "KdGms4q6nmrh"
      }
    },
    {
      "cell_type": "markdown",
      "source": [
        "1. What is Python, and why is it popular?"
      ],
      "metadata": {
        "id": "YCiWwNpJn56m"
      }
    },
    {
      "cell_type": "markdown",
      "source": [
        "- Python is a high-level, interpreted, general-purpose programming language known for its simplicity and readability. It was created by Guido van Rossum and first released in 1991.\n",
        "- Python is popular because it's easy to learn, powerful, and flexible. It's used everywhere—from small scripts to large machine learning systems."
      ],
      "metadata": {
        "id": "oENWPlk1oelN"
      }
    },
    {
      "cell_type": "markdown",
      "source": [
        "2. What is an interpreter in Python ?"
      ],
      "metadata": {
        "id": "uBnlnDybpTxS"
      }
    },
    {
      "cell_type": "markdown",
      "source": [
        "- An interpreter in Python is the program that reads your Python code line by line, understands it, and executes it immediately."
      ],
      "metadata": {
        "id": "Y4h_a8nlpbi_"
      }
    },
    {
      "cell_type": "markdown",
      "source": [
        "3. What are pre-defined keywords in Python ?"
      ],
      "metadata": {
        "id": "mmPE3BrlsA8R"
      }
    },
    {
      "cell_type": "markdown",
      "source": [
        "- Pre-defined keywords in Python are special words that are already reserved by the language. You can’t use them as variable names or function names because Python already knows they mean something important.\n",
        "examples: if, else, print, int, str, etc."
      ],
      "metadata": {
        "id": "Slo9VzGhsEc7"
      }
    },
    {
      "cell_type": "markdown",
      "source": [
        "4. Can keywords be used as variable names ?"
      ],
      "metadata": {
        "id": "qXIYN9ULs43-"
      }
    },
    {
      "cell_type": "markdown",
      "source": [
        "- No,Because keywords already have special meanings in Python, and using them as variable names would confuse the interpreter.\n",
        "> if = 10 This will cause an error"
      ],
      "metadata": {
        "id": "mYOzRyhts5U9"
      }
    },
    {
      "cell_type": "markdown",
      "source": [
        "5. What is mutability in Python ?"
      ],
      "metadata": {
        "id": "vBOc0zcitf0E"
      }
    },
    {
      "cell_type": "markdown",
      "source": [
        "- If something is mutable, you can change its content without changing its identity and it stays the same object in memory.\n",
        "- If it’s immutable, you can’t change it you’d have to create a new one instead."
      ],
      "metadata": {
        "id": "rvmLcpryt7iS"
      }
    },
    {
      "cell_type": "markdown",
      "source": [
        "6. Why are lists mutable, but tuples are immutable ?"
      ],
      "metadata": {
        "id": "chp_xwKB0aIq"
      }
    },
    {
      "cell_type": "markdown",
      "source": [
        "- Lists are mutable because you might need to update them often.\n",
        "- Tuples are immutable because sometimes, you want to protect your data and keep it constant."
      ],
      "metadata": {
        "id": "86ADJlzl0m30"
      }
    },
    {
      "cell_type": "markdown",
      "source": [
        "7. What is the difference between “==” and “is” operators in Python ?"
      ],
      "metadata": {
        "id": "nOXPzdav0qm_"
      }
    },
    {
      "cell_type": "markdown",
      "source": [
        "- == asks: Do these look the same?\n",
        "- is asks: Are these the exact same thing?"
      ],
      "metadata": {
        "id": "PLH3YXei1Juh"
      }
    },
    {
      "cell_type": "markdown",
      "source": [
        "8. What are logical operators in Python ?"
      ],
      "metadata": {
        "id": "DfPbUzpv1X31"
      }
    },
    {
      "cell_type": "markdown",
      "source": [
        "- Logical operators in Python are used to combine conditions and make decisions in your code.\n",
        ">and = True if both conditions are true,\n",
        "True and True : True\n",
        "\n",
        "  >or = True if at least one condition is true,\n",
        "True or False : True\n",
        "\n",
        "  >not =  Flips the value,\n",
        "not True : False\n",
        "\n"
      ],
      "metadata": {
        "id": "gLMTeR-y2N9m"
      }
    },
    {
      "cell_type": "markdown",
      "source": [
        "9. What is type casting in Python?"
      ],
      "metadata": {
        "id": "JHJ-buam3Cal"
      }
    },
    {
      "cell_type": "markdown",
      "source": [
        "- Type casting in Python means converting one data type into another.\n",
        "- Type casting functions:\n",
        "- int() – converts to integer\n",
        "\n",
        "- float() – converts to decimal\n",
        "\n",
        "- str() – converts to string\n",
        "\n",
        "- bool() – converts to True/False\n",
        "\n"
      ],
      "metadata": {
        "id": "evSsNEz53CPe"
      }
    },
    {
      "cell_type": "markdown",
      "source": [
        "10. Difference between implicit and explicit type casting?\n"
      ],
      "metadata": {
        "id": "rrU1ghPY3sNz"
      }
    },
    {
      "cell_type": "markdown",
      "source": [
        "- Implicit: Python automatically converts the type for you.\n",
        "\n",
        "- Explicit: You manually convert it using functions like int(), float(), etc.\n",
        "\n",
        ">Examples: implicit: 3 + 2.5 Python changes 3 to 3.0  \n",
        "explicit: int(5.8) it will become 5."
      ],
      "metadata": {
        "id": "udBJ2-P74WBH"
      }
    },
    {
      "cell_type": "markdown",
      "source": [
        "11. Purpose of conditional statements in Python?\n",
        "\n"
      ],
      "metadata": {
        "id": "s63co1AY43Mh"
      }
    },
    {
      "cell_type": "markdown",
      "source": [
        "- Conditional statements let your program make decisions.\n",
        "They run different blocks of code depending on whether a condition is True or False.\n",
        "-Used with if, elif, and else.\n"
      ],
      "metadata": {
        "id": "whW5zEj-5HFD"
      }
    },
    {
      "cell_type": "markdown",
      "source": [
        "12. How does the elif statement work?\n"
      ],
      "metadata": {
        "id": "G3J_gim95ko7"
      }
    },
    {
      "cell_type": "markdown",
      "source": [
        "- elif means “else if” – it checks another condition if the previous if was false.\n",
        "- You can have multiple elif to check many different cases.\n",
        "Only the first true block runs."
      ],
      "metadata": {
        "id": "0A8e0LBv5o9d"
      }
    },
    {
      "cell_type": "markdown",
      "source": [
        "13. Difference between for and while loops?\n"
      ],
      "metadata": {
        "id": "hkl5jLcA6EaO"
      }
    },
    {
      "cell_type": "markdown",
      "source": [
        "- for loops run a set number of times (like looping over a list).\n",
        "\n",
        "- while loops run as long as a condition is true.\n",
        "Use for when you know how many times; while when you don’t.\n",
        "\n"
      ],
      "metadata": {
        "id": "ZWkDtzXA6FDG"
      }
    },
    {
      "cell_type": "markdown",
      "source": [
        "14. When is a while loop more suitable than a for loop?\n"
      ],
      "metadata": {
        "id": "pczOgSXm6bGn"
      }
    },
    {
      "cell_type": "markdown",
      "source": [
        "- When you don’t know how many times the loop should run.\n",
        "> Example: Asking for a correct password until the user types it right.\n",
        "It depends on a condition, not a count.\n",
        "\n"
      ],
      "metadata": {
        "id": "SvOMqr1c6gKU"
      }
    },
    {
      "cell_type": "markdown",
      "source": [
        "# **Practical Questions**"
      ],
      "metadata": {
        "id": "yuns_X9I6qo5"
      }
    },
    {
      "cell_type": "markdown",
      "source": [
        "1. Write a Python program to print \"Hello, World!."
      ],
      "metadata": {
        "id": "U1CADYN67C4o"
      }
    },
    {
      "cell_type": "code",
      "source": [
        "print(\"Hello, World!\")"
      ],
      "metadata": {
        "colab": {
          "base_uri": "https://localhost:8080/"
        },
        "id": "5B7lB0Jepag8",
        "outputId": "e6225804-6eb6-4357-d06b-33903287b920"
      },
      "execution_count": null,
      "outputs": [
        {
          "output_type": "stream",
          "name": "stdout",
          "text": [
            "Hello, World!\n"
          ]
        }
      ]
    },
    {
      "cell_type": "markdown",
      "source": [
        "2. Write a Python program that displays your name and age."
      ],
      "metadata": {
        "id": "tyKsgVrC7dTs"
      }
    },
    {
      "cell_type": "code",
      "source": [
        "name = \"prathmesh\"\n",
        "age = 22\n",
        "print(\"my name is:\",name,\"\\nnd my age is: \",age)"
      ],
      "metadata": {
        "colab": {
          "base_uri": "https://localhost:8080/"
        },
        "id": "fWrYLNOv7MvA",
        "outputId": "e2ac509d-ef78-4cad-cd6c-a41640c16ea9"
      },
      "execution_count": null,
      "outputs": [
        {
          "output_type": "stream",
          "name": "stdout",
          "text": [
            "my name is: prathmesh \n",
            "nd my age is:  22\n"
          ]
        }
      ]
    },
    {
      "cell_type": "markdown",
      "source": [
        "3. Write code to print all the pre-defined keywords in Python using the keyword library."
      ],
      "metadata": {
        "id": "7xDvp28nA0EH"
      }
    },
    {
      "cell_type": "code",
      "source": [
        "import keyword\n",
        "print(keyword.kwlist)"
      ],
      "metadata": {
        "id": "xrCPN3a07qdl",
        "colab": {
          "base_uri": "https://localhost:8080/"
        },
        "outputId": "aba3fa5f-b6b7-4a36-8c04-cf1d89baeb32"
      },
      "execution_count": null,
      "outputs": [
        {
          "output_type": "stream",
          "name": "stdout",
          "text": [
            "['False', 'None', 'True', 'and', 'as', 'assert', 'async', 'await', 'break', 'class', 'continue', 'def', 'del', 'elif', 'else', 'except', 'finally', 'for', 'from', 'global', 'if', 'import', 'in', 'is', 'lambda', 'nonlocal', 'not', 'or', 'pass', 'raise', 'return', 'try', 'while', 'with', 'yield']\n"
          ]
        }
      ]
    },
    {
      "cell_type": "markdown",
      "source": [
        "4. Write a program that checks if a given word is a Python keyword."
      ],
      "metadata": {
        "id": "3uRqYUMeDb72"
      }
    },
    {
      "cell_type": "code",
      "source": [
        "import keyword\n",
        "if keyword.iskeyword(input(\"enter word:\")):\n",
        "  print(\"yes its a keyword\")\n",
        "else:\n",
        "  print(\"no it's not a keyword\")"
      ],
      "metadata": {
        "colab": {
          "base_uri": "https://localhost:8080/"
        },
        "id": "mVKaiyveCvUJ",
        "outputId": "f4b78dd4-3d2f-47e6-9d89-952ed1f4c14b"
      },
      "execution_count": null,
      "outputs": [
        {
          "output_type": "stream",
          "name": "stdout",
          "text": [
            "enter word:elif\n",
            "yes its a keyword\n"
          ]
        }
      ]
    },
    {
      "cell_type": "markdown",
      "source": [
        "5. Create a list and tuple in Python, and demonstrate how attempting to change an element works differently\n",
        "for each."
      ],
      "metadata": {
        "id": "ImNQenPFEaZv"
      }
    },
    {
      "cell_type": "code",
      "source": [
        "animals_lst = [\"lion\",\"tiger\",\"deer\",\"goat\",\"pig\",\"dog\",\"cat\"]\n",
        "animals_tup = (\"lion\",\"tiger\",\"deer\",\"goat\",\"pig\",\"dog\",\"cat\")\n",
        "animals_lst[2] = \"bear\"\n",
        "print(animals_lst)\n",
        "animals_tup[2] = \"bear\"\n",
        "print(animals_tup)"
      ],
      "metadata": {
        "colab": {
          "base_uri": "https://localhost:8080/",
          "height": 211
        },
        "id": "dLfrhdhfDmKq",
        "outputId": "39976979-dae8-47e9-a780-2eacb8e37897"
      },
      "execution_count": null,
      "outputs": [
        {
          "output_type": "stream",
          "name": "stdout",
          "text": [
            "['lion', 'tiger', 'bear', 'goat', 'pig', 'dog', 'cat']\n"
          ]
        },
        {
          "output_type": "error",
          "ename": "TypeError",
          "evalue": "'tuple' object does not support item assignment",
          "traceback": [
            "\u001b[0;31m---------------------------------------------------------------------------\u001b[0m",
            "\u001b[0;31mTypeError\u001b[0m                                 Traceback (most recent call last)",
            "\u001b[0;32m/tmp/ipython-input-38-4294363412.py\u001b[0m in \u001b[0;36m<cell line: 0>\u001b[0;34m()\u001b[0m\n\u001b[1;32m      3\u001b[0m \u001b[0manimals_lst\u001b[0m\u001b[0;34m[\u001b[0m\u001b[0;36m2\u001b[0m\u001b[0;34m]\u001b[0m \u001b[0;34m=\u001b[0m \u001b[0;34m\"bear\"\u001b[0m\u001b[0;34m\u001b[0m\u001b[0;34m\u001b[0m\u001b[0m\n\u001b[1;32m      4\u001b[0m \u001b[0mprint\u001b[0m\u001b[0;34m(\u001b[0m\u001b[0manimals_lst\u001b[0m\u001b[0;34m)\u001b[0m\u001b[0;34m\u001b[0m\u001b[0;34m\u001b[0m\u001b[0m\n\u001b[0;32m----> 5\u001b[0;31m \u001b[0manimals_tup\u001b[0m\u001b[0;34m[\u001b[0m\u001b[0;36m2\u001b[0m\u001b[0;34m]\u001b[0m \u001b[0;34m=\u001b[0m \u001b[0;34m\"bear\"\u001b[0m\u001b[0;34m\u001b[0m\u001b[0;34m\u001b[0m\u001b[0m\n\u001b[0m\u001b[1;32m      6\u001b[0m \u001b[0mprint\u001b[0m\u001b[0;34m(\u001b[0m\u001b[0manimals_tup\u001b[0m\u001b[0;34m)\u001b[0m\u001b[0;34m\u001b[0m\u001b[0;34m\u001b[0m\u001b[0m\n",
            "\u001b[0;31mTypeError\u001b[0m: 'tuple' object does not support item assignment"
          ]
        }
      ]
    },
    {
      "cell_type": "markdown",
      "source": [
        "6. Write a function to demonstrate the behavior of mutable and immutable arguments"
      ],
      "metadata": {
        "id": "FRWmMyY_Fjqq"
      }
    },
    {
      "cell_type": "code",
      "source": [
        "# immutable\n",
        "a = 10\n",
        "b = a\n",
        "b = b + 1\n",
        "\n",
        "print(\"a (original):\", a)\n",
        "print(\"b (changed):\", b)\n",
        "\n",
        "\n",
        "# mutable\n",
        "x = [1, 2, 3]\n",
        "y = x\n",
        "y.append(4)\n",
        "\n",
        "print(\"x (original):\", x)\n",
        "print(\"y (changed):\", y)"
      ],
      "metadata": {
        "colab": {
          "base_uri": "https://localhost:8080/"
        },
        "id": "CfsuWGrhFQBQ",
        "outputId": "0fc6a3f1-cef3-4ead-a0cf-7b245d8e8d0a"
      },
      "execution_count": null,
      "outputs": [
        {
          "output_type": "stream",
          "name": "stdout",
          "text": [
            "a (original): 10\n",
            "b (changed): 11\n",
            "x (original): [1, 2, 3, 4]\n",
            "y (changed): [1, 2, 3, 4]\n"
          ]
        }
      ]
    },
    {
      "cell_type": "markdown",
      "source": [
        "7. Write a program that performs basic arithmetic operations on two user-input numbers."
      ],
      "metadata": {
        "id": "QyoAdotcG9z8"
      }
    },
    {
      "cell_type": "code",
      "source": [
        "num1 = int(input(\"enter first number:\"))\n",
        "num2 = int(input(\"enter second number:\"))\n",
        "print(\"addition:\",num1+num2)\n",
        "print(\"subtraction:\",num1-num2)\n",
        "print(\"multiplication:\",num1*num2)\n",
        "print(\"division:\",num1/num2)\n",
        "print(\"reminder:\",num1%num2)"
      ],
      "metadata": {
        "colab": {
          "base_uri": "https://localhost:8080/"
        },
        "id": "aYNbR41uG8jz",
        "outputId": "9e51c205-e3ba-4a12-ecf2-1467743e51a4"
      },
      "execution_count": null,
      "outputs": [
        {
          "output_type": "stream",
          "name": "stdout",
          "text": [
            "enter first number:6\n",
            "enter second number:2\n",
            "addition: 8\n",
            "subtraction: 4\n",
            "multiplication: 12\n",
            "division: 3.0\n",
            "reminder: 0\n"
          ]
        }
      ]
    },
    {
      "cell_type": "markdown",
      "source": [
        "8. Write a program to demonstrate the use of logical operators."
      ],
      "metadata": {
        "id": "QIZGOIXUIWCP"
      }
    },
    {
      "cell_type": "code",
      "source": [
        "attendance = 85\n",
        "submitted_project = True\n",
        "is_disqualified = False\n",
        "\n",
        "if attendance >= 85 and submitted_project and not is_disqualified:\n",
        "    print(\"Candidate is eligible for the interview.\")\n",
        "if attendance >= 90 or submitted_project:\n",
        "    print(\"Bonus marks granted.\")\n",
        "if not is_disqualified:\n",
        "    print(\"Candidate can go for the interview.\")\n",
        "else:\n",
        "  print(\"Candidate is not allowed for the interview.\")"
      ],
      "metadata": {
        "colab": {
          "base_uri": "https://localhost:8080/"
        },
        "id": "ia6ddAqwJeub",
        "outputId": "506d0b13-fc9d-4f95-cbc2-09bf3143e039"
      },
      "execution_count": null,
      "outputs": [
        {
          "output_type": "stream",
          "name": "stdout",
          "text": [
            "Candidate is eligible for the interview.\n",
            "Bonus marks granted.\n",
            "Candidate can go for the interview.\n"
          ]
        }
      ]
    },
    {
      "cell_type": "markdown",
      "source": [
        "9. Write a Python program to convert user input from string to integer, float, and boolean types."
      ],
      "metadata": {
        "id": "RsvstCqQOJSd"
      }
    },
    {
      "cell_type": "code",
      "source": [
        "user_input = input(\"enter a value:\")\n",
        "int_value = int(user_input)\n",
        "float_value = float(user_input)\n",
        "bool_value = bool(user_input)\n",
        "print(int_value)\n",
        "print(float_value)\n",
        "print(bool_value)"
      ],
      "metadata": {
        "colab": {
          "base_uri": "https://localhost:8080/"
        },
        "id": "VCpBkWO_LbXM",
        "outputId": "2a8f4cfd-1227-45e6-dbbf-bb3d478f43f6"
      },
      "execution_count": null,
      "outputs": [
        {
          "output_type": "stream",
          "name": "stdout",
          "text": [
            "enter a value:9876\n",
            "9876\n",
            "9876.0\n",
            "True\n"
          ]
        }
      ]
    },
    {
      "cell_type": "markdown",
      "source": [
        "10. Write code to demonstrate type casting with list elements."
      ],
      "metadata": {
        "id": "VDP3lT8UPqhI"
      }
    },
    {
      "cell_type": "code",
      "source": [
        "lst = [93,4.5,True,\"hello,world\",4.6j]\n",
        "print(lst)\n",
        "lst = [str(item) for item in lst]\n",
        "print(lst)"
      ],
      "metadata": {
        "colab": {
          "base_uri": "https://localhost:8080/"
        },
        "id": "d3qCsqjjPtiy",
        "outputId": "e76ca6d5-fb8e-492e-e065-b341635271e7"
      },
      "execution_count": null,
      "outputs": [
        {
          "output_type": "stream",
          "name": "stdout",
          "text": [
            "[93, 4.5, True, 'hello,world', 4.6j]\n",
            "['93', '4.5', 'True', 'hello,world', '4.6j']\n"
          ]
        }
      ]
    },
    {
      "cell_type": "markdown",
      "source": [
        "11. Write a program that checks if a number is positive, negative, or zero."
      ],
      "metadata": {
        "id": "H7zCrJ2hQ_u9"
      }
    },
    {
      "cell_type": "code",
      "source": [
        "num = int(input(\"enter a number:\"))\n",
        "if num > 0:\n",
        "  print(\"positive\")\n",
        "elif num < 0:\n",
        "  print(\"negative\")\n",
        "else:\n",
        "  print(\"zero\")"
      ],
      "metadata": {
        "colab": {
          "base_uri": "https://localhost:8080/"
        },
        "id": "dQ7tC19uQ9kf",
        "outputId": "cd7ccedc-c20c-4f6a-f1ad-dfd074f659ed"
      },
      "execution_count": null,
      "outputs": [
        {
          "output_type": "stream",
          "name": "stdout",
          "text": [
            "enter a number:89\n",
            "positive\n"
          ]
        }
      ]
    },
    {
      "cell_type": "markdown",
      "source": [
        "12. Write a for loop to print numbers from 1 to 10"
      ],
      "metadata": {
        "id": "5gvN2y9ERTqa"
      }
    },
    {
      "cell_type": "code",
      "source": [
        "for i in range(1,11):\n",
        "  print(i)"
      ],
      "metadata": {
        "colab": {
          "base_uri": "https://localhost:8080/"
        },
        "id": "88wh_19TRM95",
        "outputId": "e2e142a0-25a5-4935-bd34-2e732584c942"
      },
      "execution_count": null,
      "outputs": [
        {
          "output_type": "stream",
          "name": "stdout",
          "text": [
            "1\n",
            "2\n",
            "3\n",
            "4\n",
            "5\n",
            "6\n",
            "7\n",
            "8\n",
            "9\n",
            "10\n"
          ]
        }
      ]
    },
    {
      "cell_type": "markdown",
      "source": [
        "13. Write a Python program to find the sum of all even numbers between 1 and 50."
      ],
      "metadata": {
        "id": "enULfCJTRkdm"
      }
    },
    {
      "cell_type": "code",
      "source": [
        "total_sum = 0\n",
        "for i in range(1,51):\n",
        "    if i % 2 == 0:\n",
        "        total_sum += i\n",
        "print(total_sum)"
      ],
      "metadata": {
        "colab": {
          "base_uri": "https://localhost:8080/"
        },
        "id": "KSJc6CToR4Of",
        "outputId": "5b8b44a4-48b8-4114-bc54-18de279bd229"
      },
      "execution_count": null,
      "outputs": [
        {
          "output_type": "stream",
          "name": "stdout",
          "text": [
            "650\n"
          ]
        }
      ]
    },
    {
      "cell_type": "markdown",
      "source": [
        "14. Write a program to reverse a string using a while loop."
      ],
      "metadata": {
        "id": "E51EhPr2Wvup"
      }
    },
    {
      "cell_type": "code",
      "source": [
        "word = \"python\"\n",
        "reversed_word = \"\"\n",
        "index = len(word) -1\n",
        "while index >= 0:\n",
        "    reversed_word = reversed_word + word[index]\n",
        "    index -= 1\n",
        "print(reversed_word)"
      ],
      "metadata": {
        "colab": {
          "base_uri": "https://localhost:8080/"
        },
        "id": "TDC8E8CLTnNg",
        "outputId": "68bf89c5-099a-415d-affd-3a65ae50f4e6"
      },
      "execution_count": null,
      "outputs": [
        {
          "output_type": "stream",
          "name": "stdout",
          "text": [
            "nohtyp\n"
          ]
        }
      ]
    },
    {
      "cell_type": "markdown",
      "source": [
        "15. Write a Python program to calculate the factorial of a number provided by the user using a while loop."
      ],
      "metadata": {
        "id": "ugXtIlNgbWAv"
      }
    },
    {
      "cell_type": "code",
      "source": [
        "num = int(input(\"enter a number:\"))\n",
        "factorial = 1\n",
        "i = 1\n",
        "while i <= num:\n",
        "    factorial *= i\n",
        "    i += 1\n",
        "print(factorial)"
      ],
      "metadata": {
        "colab": {
          "base_uri": "https://localhost:8080/"
        },
        "id": "caT7ls1vY01G",
        "outputId": "ac1fa71e-c4a9-4304-8315-101f796f2240"
      },
      "execution_count": null,
      "outputs": [
        {
          "output_type": "stream",
          "name": "stdout",
          "text": [
            "enter a number:5\n",
            "120\n"
          ]
        }
      ]
    },
    {
      "cell_type": "code",
      "source": [],
      "metadata": {
        "id": "ovSlLLnbc506"
      },
      "execution_count": null,
      "outputs": []
    }
  ]
}